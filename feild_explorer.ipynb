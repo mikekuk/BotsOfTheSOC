{
 "cells": [
  {
   "cell_type": "code",
   "execution_count": 11,
   "metadata": {},
   "outputs": [],
   "source": [
    "from splunk_functions import splunk_query\n",
    "from sourcetypes import sourcetypes\n",
    "import os\n",
    "from datetime import datetime\n",
    "import requests\n",
    "import json"
   ]
  },
  {
   "cell_type": "code",
   "execution_count": 12,
   "metadata": {},
   "outputs": [],
   "source": [
    "SPLUNK_HOST=\"localhost\"\n",
    "SPLUNK_PORT=\"8089\"\n",
    "username=os.getenv('SPLUNK_UN')\n",
    "password=os.getenv('SPLUNK_PW')\n"
   ]
  },
  {
   "cell_type": "code",
   "execution_count": 13,
   "metadata": {},
   "outputs": [
    {
     "name": "stderr",
     "output_type": "stream",
     "text": [
      "/home/bots/BOTS/bots/lib/python3.11/site-packages/urllib3/connectionpool.py:1100: InsecureRequestWarning: Unverified HTTPS request is being made to host 'localhost'. Adding certificate verification is strongly advised. See: https://urllib3.readthedocs.io/en/latest/advanced-usage.html#tls-warnings\n",
      "  warnings.warn(\n"
     ]
    }
   ],
   "source": [
    "# The REST API endpoint URL\n",
    "url = f'https://{SPLUNK_HOST}:{SPLUNK_PORT}/services/data/indexes?output_mode=json'\n",
    "\n",
    "# Make a GET request to the Splunk REST API\n",
    "response = requests.get(url, auth=(username, password), verify=False)\n",
    "\n",
    "# Check if the request was successful\n",
    "if response.status_code == 200:\n",
    "    # Parse the JSON response\n",
    "    data = response.json()\n",
    "    \n",
    "    # Extract the index names\n",
    "    index_names = [entry['name'] for entry in data['entry']]\n",
    "\n",
    "indices=\"\\n\".join(index_names)"
   ]
  },
  {
   "cell_type": "code",
   "execution_count": 14,
   "metadata": {},
   "outputs": [],
   "source": [
    "index='botsv2'"
   ]
  },
  {
   "cell_type": "code",
   "execution_count": 15,
   "metadata": {},
   "outputs": [],
   "source": [
    "source_types_list = sourcetypes.split(\" \")"
   ]
  },
  {
   "cell_type": "code",
   "execution_count": 16,
   "metadata": {},
   "outputs": [],
   "source": [
    "sourcetype = source_types_list[0]"
   ]
  },
  {
   "cell_type": "code",
   "execution_count": 17,
   "metadata": {},
   "outputs": [],
   "source": [
    "splunk_data_dict = {}"
   ]
  },
  {
   "cell_type": "code",
   "execution_count": 18,
   "metadata": {},
   "outputs": [],
   "source": [
    "for sourcetype in source_types_list:\n",
    "    fields = splunk_query(f\"index={index} sourcetype={sourcetype}| fieldsummary | stats values(field)\")\n",
    "    fields_list = [x for x in fields.split(\" \") if x != \"\"][1:]\n",
    "    \n",
    "    splunk_data_dict[sourcetype] = fields_list"
   ]
  },
  {
   "cell_type": "code",
   "execution_count": 19,
   "metadata": {},
   "outputs": [],
   "source": [
    "splunk_json = json.dumps(splunk_data_dict)\n",
    "\n",
    "with open(f\"{index}_splunk_field.json\", \"w\") as f:\n",
    "    f.write(splunk_json)"
   ]
  }
 ],
 "metadata": {
  "kernelspec": {
   "display_name": "bots",
   "language": "python",
   "name": "python3"
  },
  "language_info": {
   "codemirror_mode": {
    "name": "ipython",
    "version": 3
   },
   "file_extension": ".py",
   "mimetype": "text/x-python",
   "name": "python",
   "nbconvert_exporter": "python",
   "pygments_lexer": "ipython3",
   "version": "3.11.6"
  }
 },
 "nbformat": 4,
 "nbformat_minor": 2
}
