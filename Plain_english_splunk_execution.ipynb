{
 "cells": [
  {
   "cell_type": "code",
   "execution_count": 1,
   "metadata": {},
   "outputs": [
    {
     "data": {
      "text/plain": [
       "True"
      ]
     },
     "execution_count": 1,
     "metadata": {},
     "output_type": "execute_result"
    }
   ],
   "source": [
    "import autogen\n",
    "import requests\n",
    "import json\n",
    "import dotenv\n",
    "import os\n",
    "\n",
    "from splunk_functions import splunk_query\n",
    "\n",
    "dotenv.load_dotenv(\".env\")"
   ]
  },
  {
   "cell_type": "code",
   "execution_count": 2,
   "metadata": {},
   "outputs": [],
   "source": [
    "splunk_host=\"localhost\"\n",
    "port=\"8089\"\n",
    "username=os.getenv('SPLUNK_UN')\n",
    "password=os.getenv('SPLUNK_PW')"
   ]
  },
  {
   "cell_type": "code",
   "execution_count": 3,
   "metadata": {},
   "outputs": [],
   "source": [
    "config_list = autogen.config_list_from_json(\n",
    "    \"OAI_CONFIG_LIST\",\n",
    "    filter_dict={\n",
    "        \"model\": [\"gpt-4\", \"gpt-4-0314\", \"gpt4\", \"gpt-4-32k\", \"gpt-4-32k-0314\", \"gpt-4-32k-v0314\"],\n",
    "    },\n",
    ")"
   ]
  },
  {
   "cell_type": "code",
   "execution_count": 14,
   "metadata": {},
   "outputs": [],
   "source": [
    "START_DATE = \"07/31/2017:20:15\"\n",
    "END_DATE = \"08/31/2017:18:00\"\n",
    "\n",
    "from datetime import datetime, timedelta"
   ]
  },
  {
   "cell_type": "code",
   "execution_count": 15,
   "metadata": {},
   "outputs": [],
   "source": [
    "splunk_time_format = '%m/%d/%Y:%H:%M'\n",
    "start_date = datetime.strptime(START_DATE, splunk_time_format)\n",
    "end_date = datetime.strptime(END_DATE, splunk_time_format)\n",
    "one_day = timedelta(days=1)\n",
    "end_less_one = end_date - one_day\n",
    "end_less_one_str = datetime.strftime(end_less_one, splunk_time_format)"
   ]
  },
  {
   "cell_type": "code",
   "execution_count": 20,
   "metadata": {},
   "outputs": [
    {
     "data": {
      "text/plain": [
       "'2017-08-30T18:00:00'"
      ]
     },
     "execution_count": 20,
     "metadata": {},
     "output_type": "execute_result"
    }
   ],
   "source": [
    "end_less_one.isoformat()"
   ]
  },
  {
   "cell_type": "code",
   "execution_count": 21,
   "metadata": {},
   "outputs": [],
   "source": [
    "sourcetypes = splunk_query(\"index=botsv2 | stats values(sourcetype)\", latest_time=end_date.isoformat(), earliest_time=end_less_one.isoformat()).split(\"\\n0\")[-1]"
   ]
  },
  {
   "cell_type": "code",
   "execution_count": 30,
   "metadata": {},
   "outputs": [
    {
     "data": {
      "text/plain": [
       "'  MSAD:NT6:Health MSAD:NT6:SiteInfo Perfmon:CPU Perfmon:LogicalDisk Perfmon:Memory Perfmon:NTDS Perfmon:Network Perfmon:Network_Interface Perfmon:PhysicalDisk Perfmon:Process Perfmon:Processor Perfmon:System Powershell:ScriptExecutionSummary Script:ListeningPorts Unix:ListeningPorts Unix:UserAccounts WinHostMon WinRegistry access_combined apache:error apache_error auditd bandwidth collectd cpu csp-violation df interfaces iostat lastlog linux_audit linux_secure mysql:connection:stats mysql:instance:stats mysql:server:stats mysql:status mysql:tableStatus mysql:table_io_waits_summary_by_index_usage mysql:transaction:details mysql:transaction:stats mysql:variables netstat openPorts osquery_info osquery_results osquery_warning package pan:system pan:traffic protocol ps stream:arp stream:dhcp stream:dns stream:http stream:icmp stream:ip stream:ldap stream:mysql stream:smb stream:smtp stream:tcp stream:udp suricata symantec:ep:agent:file symantec:ep:agt_system:file symantec:ep:packet:file symantec:ep:traffic:file syslog top vmstat web_ping who wineventlog xmlwineventlog'"
      ]
     },
     "execution_count": 30,
     "metadata": {},
     "output_type": "execute_result"
    }
   ],
   "source": [
    "sourcetypes.split(\"\\n0\")[-1]"
   ]
  },
  {
   "cell_type": "code",
   "execution_count": 4,
   "metadata": {},
   "outputs": [],
   "source": [
    "ASSISTANT_SYSTEM_MESSAGE = \"\"\"You are a helpful AI assistant.\n",
    "Solve tasks using your coding and language skills.\n",
    "In the following cases, suggest python code (in a python coding block), shell script (in a sh coding block), or Splunk spl for the user to execute.\n",
    "    1. When you need to collect info, use the code to output the info you need, for example, browse or search the web, download/read a file, print the content of a webpage or a file, get the current date/time, check the operating system. After sufficient info is printed and the task is ready to be solved based on your language skill, you can solve the task by yourself.\n",
    "    2. When you need to perform some task with code, use the code to perform the task and output the result. Finish the task smartly.\n",
    "\n",
    "Solve the task step by step if you need to. If a plan is not provided, explain your plan first. Be clear which step uses code, and which step uses your language skill.\n",
    "When using code, you must indicate the script type in the code block. The user cannot provide any other feedback or perform any other action beyond executing the code you suggest. The user can't modify your code. So do not suggest incomplete code which requires users to modify. Don't use a code block if it's not intended to be executed by the user.\n",
    "If you want the user to save the code in a file before executing it, put # filename: <filename> inside the code block as the first line. Don't include multiple code blocks in one response. Do not ask users to copy and paste the result. Instead, use 'print' function for the output when relevant. Check the execution result returned by the user.\n",
    "If the result indicates there is an error, fix the error and output the code again. Suggest the full code instead of partial code or code changes. If the error can't be fixed or if the task is not solved even after the code is executed successfully, analyze the problem, revisit your assumption, collect additional info you need, and think of a different approach to try.\n",
    "When you find an answer, verify the answer carefully. Include verifiable evidence in your response if possible.\n",
    "Reply \"TERMINATE\" in the end when everything is done.\n",
    "\"\"\"\n",
    "\n",
    "\n",
    "USERAGENT_SYSTEM_MESSAGE = \"\"\"\n",
    "You are a helpful AI assistant.\n",
    "Solve tasks using your coding and language skills.\n",
    "\"\"\""
   ]
  },
  {
   "cell_type": "code",
   "execution_count": 5,
   "metadata": {},
   "outputs": [
    {
     "name": "stderr",
     "output_type": "stream",
     "text": [
      "/home/bots/BOTS/bots/lib/python3.11/site-packages/urllib3/connectionpool.py:1100: InsecureRequestWarning: Unverified HTTPS request is being made to host 'localhost'. Adding certificate verification is strongly advised. See: https://urllib3.readthedocs.io/en/latest/advanced-usage.html#tls-warnings\n",
      "  warnings.warn(\n"
     ]
    }
   ],
   "source": [
    "# The REST API endpoint URL\n",
    "url = f'https://{splunk_host}:8089/services/data/indexes?output_mode=json'\n",
    "\n",
    "# Make a GET request to the Splunk REST API\n",
    "response = requests.get(url, auth=(username, password), verify=False)\n",
    "\n",
    "# Check if the request was successful\n",
    "if response.status_code == 200:\n",
    "    # Parse the JSON response\n",
    "    data = response.json()\n",
    "    \n",
    "    # Extract the index names\n",
    "    index_names = [entry['name'] for entry in data['entry']]\n",
    "\n",
    "indices=\"\\n\".join(index_names)"
   ]
  },
  {
   "cell_type": "code",
   "execution_count": 6,
   "metadata": {},
   "outputs": [],
   "source": [
    "FUNCTIONS = [\n",
    "    {\n",
    "        \"name\": \"splunk_query\",\n",
    "        \"description\": \"Use this function to query Splunk spl. Input should be a fully formed spl query.\",\n",
    "        \"parameters\": {\n",
    "            \"type\": \"object\",\n",
    "            \"properties\": {\n",
    "                \"query\": {\n",
    "                    \"type\": \"string\",\n",
    "                    \"description\": f\"\"\"\n",
    "                            SPL query extracting info to answer the user's question.\n",
    "                            Splunk has the following indexes:\n",
    "                                {indices}\n",
    "                            The query should be returned in plain text, not in JSON.\n",
    "                            \"\"\",\n",
    "                },\n",
    "            #     \"earliest_time\": {\n",
    "            #         \"type\": \"string\",\n",
    "            #         \"description\": \"The earliest time for the search (default last 24 hours). Input should be in SPL format, e.g. '-24h@h'\"\n",
    "            #     },\n",
    "            #    \"latest_time\": {\n",
    "            #         \"type\": \"string\",\n",
    "            #         \"description\": \"The latest time for the search (default now). Input should be in SPL format, e.g.'now'\"\n",
    "            #     } \n",
    "            },\n",
    "            \"required\": [\"query\"],\n",
    "        },\n",
    "    }\n",
    "]"
   ]
  },
  {
   "cell_type": "code",
   "execution_count": 7,
   "metadata": {},
   "outputs": [],
   "source": [
    "# create an AssistantAgent named \"assistant\"\n",
    "assistant = autogen.AssistantAgent(\n",
    "    name=\"assistant\",\n",
    "    system_message=ASSISTANT_SYSTEM_MESSAGE,\n",
    "    llm_config={\n",
    "        \"seed\": 42,  # seed for caching and reproducibility\n",
    "        \"config_list\": config_list,  # a list of OpenAI API configurations\n",
    "        \"temperature\": 0,  # temperature for sampling,\n",
    "        \"functions\": FUNCTIONS\n",
    "    },  # configuration for autogen's enhanced inference API which is compatible with OpenAI API\n",
    ")\n",
    "# create a UserProxyAgent instance named \"user_proxy\"\n",
    "user_proxy = autogen.UserProxyAgent(\n",
    "    name=\"user_proxy\",\n",
    "    human_input_mode=\"NEVER\",\n",
    "    max_consecutive_auto_reply=10,\n",
    "    is_termination_msg=lambda x: x.get(\"content\", \"\") and x.get(\"content\", \"\").rstrip().endswith(\"TERMINATE\"),\n",
    "    code_execution_config={\n",
    "        \"work_dir\": \"coding\",\n",
    "        \"use_docker\": False,  # set to True or image name like \"python:3\" to use docker\n",
    "    },\n",
    ")\n",
    "\n",
    "user_proxy.register_function(\n",
    "    function_map={\n",
    "        'splunk_query': splunk_query\n",
    "    }\n",
    ")"
   ]
  },
  {
   "cell_type": "code",
   "execution_count": 8,
   "metadata": {},
   "outputs": [
    {
     "name": "stdout",
     "output_type": "stream",
     "text": [
      "\u001b[33muser_proxy\u001b[0m (to assistant):\n",
      "\n",
      "Find the most common completed search sting made today.\n",
      "\n",
      "--------------------------------------------------------------------------------\n",
      "\u001b[33massistant\u001b[0m (to user_proxy):\n",
      "\n",
      "To find the most common completed search string made today, we can use the Splunk SPL (Search Processing Language). We will query the `_audit` index, which contains information about searches. We will filter for events where the search was completed (`action=search` and `info=completed`), and then count the occurrences of each search string (`search` field). Finally, we will sort the results in descending order and return the most common search string.\n",
      "\n",
      "Here is the SPL query:\n",
      "\n",
      "```spl\n",
      "index=_audit action=search info=completed earliest=@d latest=now() \n",
      "| stats count by search \n",
      "| sort count desc \n",
      "| head 1\n",
      "```\n",
      "\n",
      "Let's execute this query using the `splunk_query` function.\n",
      "\u001b[32m***** Suggested function Call: splunk_query *****\u001b[0m\n",
      "Arguments: \n",
      "{\n",
      "  \"query\": \"index=_audit action=search info=completed earliest=@d latest=now() | stats count by search | sort count desc | head 1\"\n",
      "}\n",
      "\u001b[32m*************************************************\u001b[0m\n",
      "\n",
      "--------------------------------------------------------------------------------\n",
      "\u001b[35m\n",
      ">>>>>>>> EXECUTING FUNCTION splunk_query...\u001b[0m\n",
      "\u001b[33muser_proxy\u001b[0m (to assistant):\n",
      "\n",
      "\u001b[32m***** Response from calling function \"splunk_query\" *****\u001b[0m\n",
      "                                                                                                                                                                                                                                                                                search  count\n",
      "0  ' | rest /services/search/distributed/groups splunk_server=local | fields + title, member | where isnotnull(mvfind(member,\"localhost:localhost\")) | eval peerURI=\"localhost\" | rename title as search_groups | fields + peerURI, search_groups | mvcombine delim=\" \" search_groups'      7\n",
      "\u001b[32m*********************************************************\u001b[0m\n",
      "\n",
      "--------------------------------------------------------------------------------\n",
      "\u001b[33massistant\u001b[0m (to user_proxy):\n",
      "\n",
      "The most common completed search string made today is:\n",
      "\n",
      "```spl\n",
      "| rest /services/search/distributed/groups splunk_server=local | fields + title, member | where isnotnull(mvfind(member,\"localhost:localhost\")) | eval peerURI=\"localhost\" | rename title as search_groups | fields + peerURI, search_groups | mvcombine delim=\" \" search_groups\n",
      "```\n",
      "\n",
      "This search string was executed 7 times today.\n",
      "\n",
      "TERMINATE\n",
      "\n",
      "--------------------------------------------------------------------------------\n"
     ]
    }
   ],
   "source": [
    "# the assistant receives a message from the user_proxy, which contains the task description\n",
    "user_proxy.initiate_chat(\n",
    "    assistant,\n",
    "    message=\"\"\"Find the most common completed search sting made today.\"\"\",\n",
    ")\n"
   ]
  },
  {
   "cell_type": "code",
   "execution_count": 9,
   "metadata": {},
   "outputs": [
    {
     "name": "stdout",
     "output_type": "stream",
     "text": [
      "The most common completed search string made today is:\n",
      "\n",
      "```spl\n",
      "| rest /services/search/distributed/groups splunk_server=local | fields + title, member | where isnotnull(mvfind(member,\"localhost:localhost\")) | eval peerURI=\"localhost\" | rename title as search_groups | fields + peerURI, search_groups | mvcombine delim=\" \" search_groups\n",
      "```\n",
      "\n",
      "This search string was executed 7 times today.\n",
      "\n",
      "TERMINATE\n"
     ]
    }
   ],
   "source": [
    "print(assistant.last_message()['content'])"
   ]
  }
 ],
 "metadata": {
  "kernelspec": {
   "display_name": "bots",
   "language": "python",
   "name": "python3"
  },
  "language_info": {
   "codemirror_mode": {
    "name": "ipython",
    "version": 3
   },
   "file_extension": ".py",
   "mimetype": "text/x-python",
   "name": "python",
   "nbconvert_exporter": "python",
   "pygments_lexer": "ipython3",
   "version": "3.11.6"
  }
 },
 "nbformat": 4,
 "nbformat_minor": 2
}
