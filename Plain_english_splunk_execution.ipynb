{
 "cells": [
  {
   "cell_type": "code",
   "execution_count": 1,
   "metadata": {},
   "outputs": [],
   "source": [
    "import autogen"
   ]
  },
  {
   "cell_type": "code",
   "execution_count": 2,
   "metadata": {},
   "outputs": [],
   "source": [
    "from splunk_functions import splunk_query"
   ]
  },
  {
   "cell_type": "code",
   "execution_count": 3,
   "metadata": {},
   "outputs": [],
   "source": [
    "config_list = autogen.config_list_from_json(\n",
    "    \"OAI_CONFIG_LIST\",\n",
    "    filter_dict={\n",
    "        \"model\": [\"gpt-4\", \"gpt-4-0314\", \"gpt4\", \"gpt-4-32k\", \"gpt-4-32k-0314\", \"gpt-4-32k-v0314\"],\n",
    "    },\n",
    ")"
   ]
  },
  {
   "cell_type": "code",
   "execution_count": 4,
   "metadata": {},
   "outputs": [],
   "source": [
    "ASSISTANT_SYSTEM_MESSAGE = \"\"\"You are a helpful AI assistant.\n",
    "Solve tasks using your coding and language skills.\n",
    "In the following cases, suggest python code (in a python coding block), shell script (in a sh coding block), or Splunk spl for the user to execute.\n",
    "    1. When you need to collect info, use the code to output the info you need, for example, browse or search the web, download/read a file, print the content of a webpage or a file, get the current date/time, check the operating system. After sufficient info is printed and the task is ready to be solved based on your language skill, you can solve the task by yourself.\n",
    "    2. When you need to perform some task with code, use the code to perform the task and output the result. Finish the task smartly.\n",
    "\n",
    "Solve the task step by step if you need to. If a plan is not provided, explain your plan first. Be clear which step uses code, and which step uses your language skill.\n",
    "When using code, you must indicate the script type in the code block. The user cannot provide any other feedback or perform any other action beyond executing the code you suggest. The user can't modify your code. So do not suggest incomplete code which requires users to modify. Don't use a code block if it's not intended to be executed by the user.\n",
    "If you want the user to save the code in a file before executing it, put # filename: <filename> inside the code block as the first line. Don't include multiple code blocks in one response. Do not ask users to copy and paste the result. Instead, use 'print' function for the output when relevant. Check the execution result returned by the user.\n",
    "If the result indicates there is an error, fix the error and output the code again. Suggest the full code instead of partial code or code changes. If the error can't be fixed or if the task is not solved even after the code is executed successfully, analyze the problem, revisit your assumption, collect additional info you need, and think of a different approach to try.\n",
    "When you find an answer, verify the answer carefully. Include verifiable evidence in your response if possible.\n",
    "Reply \"TERMINATE\" in the end when everything is done.\n",
    "\"\"\"\n",
    "\n",
    "\n",
    "USERAGENT_SYSTEM_MESSAGE = \"\"\"\n",
    "You are a helpful AI assistant.\n",
    "Solve tasks using your coding and language skills.\n",
    "\"\"\""
   ]
  },
  {
   "cell_type": "code",
   "execution_count": 5,
   "metadata": {},
   "outputs": [],
   "source": [
    "indices = \"\"\"\n",
    "_internal\n",
    "_audit\n",
    "\"\"\""
   ]
  },
  {
   "cell_type": "code",
   "execution_count": 6,
   "metadata": {},
   "outputs": [],
   "source": [
    "FUNCTIONS = [\n",
    "    {\n",
    "        \"name\": \"splunk_query\",\n",
    "        \"description\": \"Use this function to query Splunk spl. Input should be a fully formed spl query.\",\n",
    "        \"parameters\": {\n",
    "            \"type\": \"object\",\n",
    "            \"properties\": {\n",
    "                \"query\": {\n",
    "                    \"type\": \"string\",\n",
    "                    \"description\": f\"\"\"\n",
    "                            SPL query extracting info to answer the user's question.\n",
    "                            Splunk has the following indexes:\n",
    "                            {indices}\n",
    "                            The query should be returned in plain text, not in JSON.\n",
    "                            \"\"\",\n",
    "                },\n",
    "            #     \"earliest_time\": {\n",
    "            #         \"type\": \"string\",\n",
    "            #         \"description\": \"The earliest time for the search (default last 24 hours). Input should be in SPL format, e.g. '-24h@h'\"\n",
    "            #     },\n",
    "            #    \"latest_time\": {\n",
    "            #         \"type\": \"string\",\n",
    "            #         \"description\": \"The latest time for the search (default now). Input should be in SPL format, e.g.'now'\"\n",
    "            #     } \n",
    "            },\n",
    "            \"required\": [\"query\"],\n",
    "        },\n",
    "    }\n",
    "]"
   ]
  },
  {
   "cell_type": "code",
   "execution_count": 7,
   "metadata": {},
   "outputs": [],
   "source": [
    "# create an AssistantAgent named \"assistant\"\n",
    "assistant = autogen.AssistantAgent(\n",
    "    name=\"assistant\",\n",
    "    system_message=ASSISTANT_SYSTEM_MESSAGE,\n",
    "    llm_config={\n",
    "        \"seed\": 40,  # seed for caching and reproducibility\n",
    "        \"config_list\": config_list,  # a list of OpenAI API configurations\n",
    "        \"temperature\": 0,  # temperature for sampling,\n",
    "        \"functions\": FUNCTIONS\n",
    "    },  # configuration for autogen's enhanced inference API which is compatible with OpenAI API\n",
    ")\n",
    "# create a UserProxyAgent instance named \"user_proxy\"\n",
    "user_proxy = autogen.UserProxyAgent(\n",
    "    name=\"user_proxy\",\n",
    "    human_input_mode=\"NEVER\",\n",
    "    max_consecutive_auto_reply=10,\n",
    "    is_termination_msg=lambda x: x.get(\"content\", \"\") and x.get(\"content\", \"\").rstrip().endswith(\"TERMINATE\"),\n",
    "    code_execution_config={\n",
    "        \"work_dir\": \"coding\",\n",
    "        \"use_docker\": False,  # set to True or image name like \"python:3\" to use docker\n",
    "    },\n",
    ")\n",
    "\n",
    "user_proxy.register_function(\n",
    "    function_map={\n",
    "        'splunk_query': splunk_query\n",
    "    }\n",
    ")"
   ]
  },
  {
   "cell_type": "code",
   "execution_count": 8,
   "metadata": {},
   "outputs": [
    {
     "name": "stdout",
     "output_type": "stream",
     "text": [
      "\u001b[33muser_proxy\u001b[0m (to assistant):\n",
      "\n",
      "Find the most common completed search sting made by admin today.\n",
      "\n",
      "--------------------------------------------------------------------------------\n",
      "\u001b[33massistant\u001b[0m (to user_proxy):\n",
      "\n",
      "To find the most common completed search string made by admin today, we can use the Splunk SPL query. The query will look into the _audit index, filter events by the user \"admin\" and the action \"search\", and then count the occurrences of each search string. \n",
      "\n",
      "Let's execute the Splunk SPL query. \n",
      "\n",
      "```spl\n",
      "index=_audit action=search user=admin earliest=@d latest=now \n",
      "| stats count by search \n",
      "| sort - count \n",
      "| head 1\n",
      "```\n",
      "\n",
      "This query does the following:\n",
      "1. `index=_audit action=search user=admin earliest=@d latest=now`: This filters the events in the _audit index where the action is \"search\", the user is \"admin\", and the time is between the start of today (@d) and now.\n",
      "2. `stats count by search`: This counts the number of occurrences of each search string.\n",
      "3. `sort - count`: This sorts the results in descending order of count.\n",
      "4. `head 1`: This returns the top result, which is the most common search string. \n",
      "\n",
      "Please execute this query in your Splunk environment.\n",
      "\u001b[32m***** Suggested function Call: splunk_query *****\u001b[0m\n",
      "Arguments: \n",
      "{\n",
      "  \"query\": \"index=_audit action=search user=admin earliest=@d latest=now | stats count by search | sort - count | head 1\"\n",
      "}\n",
      "\u001b[32m*************************************************\u001b[0m\n",
      "\n",
      "--------------------------------------------------------------------------------\n",
      "\u001b[35m\n",
      ">>>>>>>> EXECUTING FUNCTION splunk_query...\u001b[0m\n",
      "\u001b[33muser_proxy\u001b[0m (to assistant):\n",
      "\n",
      "\u001b[32m***** Response from calling function \"splunk_query\" *****\u001b[0m\n",
      "                                                                                     search  count\n",
      "0  'search index=_audit | export add_timestamp=f add_offset=t format=csv segmentation=none'     22\n",
      "\u001b[32m*********************************************************\u001b[0m\n",
      "\n",
      "--------------------------------------------------------------------------------\n",
      "\u001b[33massistant\u001b[0m (to user_proxy):\n",
      "\n",
      "The most common completed search string made by the admin today is `'search index=_audit | export add_timestamp=f add_offset=t format=csv segmentation=none'`, which has been executed 22 times.\n",
      "\n",
      "Please verify this in your Splunk environment.\n",
      "\n",
      "TERMINATE\n",
      "\n",
      "--------------------------------------------------------------------------------\n"
     ]
    }
   ],
   "source": [
    "# the assistant receives a message from the user_proxy, which contains the task description\n",
    "user_proxy.initiate_chat(\n",
    "    assistant,\n",
    "    message=\"\"\"Find the most common completed search sting made by admin today.\"\"\",\n",
    ")\n"
   ]
  }
 ],
 "metadata": {
  "kernelspec": {
   "display_name": "bots",
   "language": "python",
   "name": "python3"
  },
  "language_info": {
   "codemirror_mode": {
    "name": "ipython",
    "version": 3
   },
   "file_extension": ".py",
   "mimetype": "text/x-python",
   "name": "python",
   "nbconvert_exporter": "python",
   "pygments_lexer": "ipython3",
   "version": "3.11.6"
  }
 },
 "nbformat": 4,
 "nbformat_minor": 2
}
