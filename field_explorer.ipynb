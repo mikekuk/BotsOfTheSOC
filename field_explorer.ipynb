{
 "cells": [
  {
   "cell_type": "code",
   "execution_count": 1,
   "metadata": {},
   "outputs": [],
   "source": [
    "from splunk_functions import splunk_query\n",
    "from sourcetypes import sourcetypes\n",
    "import os\n",
    "import requests\n",
    "import json\n",
    "from datetime import datetime, timedelta\n",
    "from tqdm import tqdm"
   ]
  },
  {
   "cell_type": "code",
   "execution_count": 2,
   "metadata": {},
   "outputs": [],
   "source": [
    "SPLUNK_HOST=\"localhost\"\n",
    "SPLUNK_PORT=\"8089\"\n",
    "username=os.getenv('SPLUNK_UN')\n",
    "password=os.getenv('SPLUNK_PW')\n"
   ]
  },
  {
   "cell_type": "code",
   "execution_count": 3,
   "metadata": {},
   "outputs": [],
   "source": [
    "START_DATE = \"07/31/2017:20:15:00\" # Needs to be in American Splunk time format.\n",
    "END_DATE = \"08/31/2017:18:00:00\" # Needs to be in American Splunk time format.\n",
    "SPLUNK_TIME_FORMAT = '%m/%d/%Y:%H:%M:%S'\n",
    "\n",
    "\n",
    "start_date = datetime.strptime(START_DATE, SPLUNK_TIME_FORMAT)\n",
    "end_date = datetime.strptime(END_DATE, SPLUNK_TIME_FORMAT)\n",
    "\n",
    "# Get list of sourcetypes. Limited to last day for speed\n",
    "one_day = timedelta(days=1)\n",
    "end_less_one = end_date - one_day"
   ]
  },
  {
   "cell_type": "code",
   "execution_count": 4,
   "metadata": {},
   "outputs": [
    {
     "name": "stderr",
     "output_type": "stream",
     "text": [
      "/home/bots/BOTS/bots/lib/python3.11/site-packages/urllib3/connectionpool.py:1100: InsecureRequestWarning: Unverified HTTPS request is being made to host 'localhost'. Adding certificate verification is strongly advised. See: https://urllib3.readthedocs.io/en/latest/advanced-usage.html#tls-warnings\n",
      "  warnings.warn(\n"
     ]
    }
   ],
   "source": [
    "# The REST API endpoint URL\n",
    "url = f'https://{SPLUNK_HOST}:{SPLUNK_PORT}/services/data/indexes?output_mode=json'\n",
    "\n",
    "# Make a GET request to the Splunk REST API\n",
    "response = requests.get(url, auth=(username, password), verify=False)\n",
    "\n",
    "# Check if the request was successful\n",
    "if response.status_code == 200:\n",
    "    # Parse the JSON response\n",
    "    data = response.json()\n",
    "    \n",
    "    # Extract the index names\n",
    "    index_names = [entry['name'] for entry in data['entry']]\n",
    "\n",
    "indices=\"\\n\".join(index_names)"
   ]
  },
  {
   "cell_type": "code",
   "execution_count": 5,
   "metadata": {},
   "outputs": [],
   "source": [
    "index='botsv2'"
   ]
  },
  {
   "cell_type": "code",
   "execution_count": 6,
   "metadata": {},
   "outputs": [],
   "source": [
    "source_types_list = sourcetypes.split(\" \")"
   ]
  },
  {
   "cell_type": "code",
   "execution_count": 7,
   "metadata": {},
   "outputs": [],
   "source": [
    "sourcetype = source_types_list[0]"
   ]
  },
  {
   "cell_type": "code",
   "execution_count": 8,
   "metadata": {},
   "outputs": [],
   "source": [
    "splunk_data_dict = {}"
   ]
  },
  {
   "cell_type": "code",
   "execution_count": 9,
   "metadata": {},
   "outputs": [
    {
     "name": "stderr",
     "output_type": "stream",
     "text": [
      "  0%|          | 0/75 [00:00<?, ?it/s]"
     ]
    },
    {
     "name": "stderr",
     "output_type": "stream",
     "text": [
      "100%|██████████| 75/75 [04:17<00:00,  3.43s/it]\n"
     ]
    }
   ],
   "source": [
    "for sourcetype in tqdm(source_types_list):\n",
    "    fields = splunk_query(f\"index={index} sourcetype={sourcetype}| fieldsummary | stats values(field)\", earliest_time=end_less_one.isoformat(), latest_time=end_date.isoformat())\n",
    "    fields_list = [x for x in fields.split(\" \") if x != \"\"][1:]\n",
    "    splunk_data_dict[sourcetype] = fields_list"
   ]
  },
  {
   "cell_type": "code",
   "execution_count": 10,
   "metadata": {},
   "outputs": [],
   "source": [
    "splunk_json = json.dumps(splunk_data_dict)\n",
    "\n",
    "with open(f\"{index}_splunk_field.json\", \"w\") as f:\n",
    "    f.write(splunk_json)"
   ]
  }
 ],
 "metadata": {
  "kernelspec": {
   "display_name": "bots",
   "language": "python",
   "name": "python3"
  },
  "language_info": {
   "codemirror_mode": {
    "name": "ipython",
    "version": 3
   },
   "file_extension": ".py",
   "mimetype": "text/x-python",
   "name": "python",
   "nbconvert_exporter": "python",
   "pygments_lexer": "ipython3",
   "version": "3.11.6"
  }
 },
 "nbformat": 4,
 "nbformat_minor": 2
}
