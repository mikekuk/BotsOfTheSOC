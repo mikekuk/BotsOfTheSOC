{
 "cells": [
  {
   "cell_type": "code",
   "execution_count": 1,
   "metadata": {},
   "outputs": [],
   "source": [
    "from splunk_functions import splunk_query"
   ]
  },
  {
   "cell_type": "code",
   "execution_count": 6,
   "metadata": {},
   "outputs": [
    {
     "name": "stdout",
     "output_type": "stream",
     "text": [
      "   _serial                        _time                                                                         source sourcetype     host      index splunk_server                                                                                                                                      _raw\n",
      "0        0  2023-11-08 16:33:00.571 EST  /opt/splunk-9.1.1-64e843ea36b1-Linux-x86_64/splunk/var/log/splunk/metrics.log    splunkd  osboxes  _internal       osboxes                 11-08-2023 16:33:00.571 -0500 INFO  Metrics - group=dutycycle, name=management, thread=fwddatareceiverthread, ratio=0.000\n",
      "1        1  2023-11-08 16:33:00.571 EST  /opt/splunk-9.1.1-64e843ea36b1-Linux-x86_64/splunk/var/log/splunk/metrics.log    splunkd  osboxes  _internal       osboxes                    11-08-2023 16:33:00.571 -0500 INFO  Metrics - group=dutycycle, name=management, thread=federatedheartbeat, ratio=0.000\n",
      "2        2  2023-11-08 16:33:00.571 EST  /opt/splunk-9.1.1-64e843ea36b1-Linux-x86_64/splunk/var/log/splunk/metrics.log    splunkd  osboxes  _internal       osboxes                       11-08-2023 16:33:00.571 -0500 INFO  Metrics - group=dutycycle, name=management, thread=fsupdaterthread, ratio=0.000\n",
      "3        3  2023-11-08 16:33:00.571 EST  /opt/splunk-9.1.1-64e843ea36b1-Linux-x86_64/splunk/var/log/splunk/metrics.log    splunkd  osboxes  _internal       osboxes                         11-08-2023 16:33:00.571 -0500 INFO  Metrics - group=dutycycle, name=management, thread=execprocessor, ratio=0.002\n",
      "4        4  2023-11-08 16:33:00.571 EST  /opt/splunk-9.1.1-64e843ea36b1-Linux-x86_64/splunk/var/log/splunk/metrics.log    splunkd  osboxes  _internal       osboxes  11-08-2023 16:33:00.571 -0500 INFO  Metrics - group=dutycycle, name=management, thread=distributedrestcallereventloopthread, ratio=0.000\n"
     ]
    }
   ],
   "source": [
    "df = splunk_query(query=\"index=_internal | head 5\", dataframe=False)\n",
    "print(df)"
   ]
  }
 ],
 "metadata": {
  "kernelspec": {
   "display_name": "bots",
   "language": "python",
   "name": "python3"
  },
  "language_info": {
   "codemirror_mode": {
    "name": "ipython",
    "version": 3
   },
   "file_extension": ".py",
   "mimetype": "text/x-python",
   "name": "python",
   "nbconvert_exporter": "python",
   "pygments_lexer": "ipython3",
   "version": "3.11.6"
  }
 },
 "nbformat": 4,
 "nbformat_minor": 2
}
